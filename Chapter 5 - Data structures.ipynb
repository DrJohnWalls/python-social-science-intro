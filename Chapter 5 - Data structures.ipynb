{
 "cells": [
  {
   "cell_type": "markdown",
   "metadata": {},
   "source": [
    "Data structures are used to store various format of data. Variables are simple data structures, but there are also more complex ones.\n",
    "\n",
    "**Lists** allow you to store variables in a sequence:"
   ]
  },
  {
   "cell_type": "code",
   "execution_count": 5,
   "metadata": {
    "collapsed": false
   },
   "outputs": [
    {
     "name": "stdout",
     "output_type": "stream",
     "text": [
      "[0, 0, 0, 1, 1, 1]\n",
      "0\n",
      "1\n",
      "1\n",
      "List has 6 elements: [0, 0, 0, 1, 1, 1]\n",
      "[0, 0, 0, 1, 1]\n",
      "List has 5 elements: [0, 0, 0, 1, 1]\n"
     ]
    }
   ],
   "source": [
    "l = [0, 0, 0, 1, 1] ## create a list using []\n",
    "l.append( 1 ) ## add to list\n",
    "print l\n",
    "print l[0]\n",
    "print l[3]\n",
    "print l[-1]\n",
    "print \"List has\", len( l ), \"elements:\", l\n",
    "\n",
    "l.remove( 1 ) ## remove a value\n",
    "print l\n",
    "\n",
    "print \"List has\", len( l ), \"elements:\", l"
   ]
  },
  {
   "cell_type": "markdown",
   "metadata": {},
   "source": [
    "**Onboarding**\n",
    "\n",
    "* What is the first word in sentece `I shall learn basics of programming today.`? *(Use `split` and list indexs)*\n",
    "* What is the last word in sentence?\n",
    "* Print each of the words, one per line.\n",
    "* Create an empty list and add some numbers to it and remove those.\n",
    "* What is the highest value on this list?"
   ]
  },
  {
   "cell_type": "code",
   "execution_count": null,
   "metadata": {
    "collapsed": true
   },
   "outputs": [],
   "source": []
  },
  {
   "cell_type": "markdown",
   "metadata": {},
   "source": [
    "**Dictonaries** allow you to store an variable using key, value structure. That means that one store pairs of items and can access the valu using the key."
   ]
  },
  {
   "cell_type": "code",
   "execution_count": 8,
   "metadata": {
    "collapsed": false
   },
   "outputs": [
    {
     "name": "stdout",
     "output_type": "stream",
     "text": [
      "KOK\n",
      "Sipilä on ehdokas\n",
      "Nelimarkka ei ole ehdokas\n",
      "Soini PS\n",
      "Sipila KESK\n",
      "Haavisto Vihreat\n",
      "Pekkarinen KESK\n",
      "Rinne SDP\n",
      "Arhimäki VAS\n",
      "Andersson VAS\n",
      "Stubb KOK\n"
     ]
    }
   ],
   "source": [
    "candidate = {\n",
    "   'Stubb' : 'KOK',\n",
    "   'Rinne' : 'SDP',\n",
    "   'Soini' : 'PS',\n",
    "   'Haavisto' : 'Vihreat',\n",
    "   'Arhimäki' : 'VAS',\n",
    "   'Andersson' : 'VAS',\n",
    "   'Pekkarinen' : 'KESK',\n",
    "   'Sipila' : 'KESK'  \n",
    "}\n",
    "\n",
    "print candidate['Stubb']\n",
    "\n",
    "if 'Sipila' in candidate:\n",
    "    print 'Sipilä on ehdokas'\n",
    "else:\n",
    "    print 'Sipilä ei ole ehdokas'\n",
    "    \n",
    "if 'Nelimarkka' in candidate:\n",
    "    print 'Nelimarkka on ehdokas'\n",
    "else:\n",
    "    print 'Nelimarkka ei ole ehdokas'\n",
    "\n",
    "for i, j in candidate.items():\n",
    "    \n",
    "    print i, j"
   ]
  },
  {
   "cell_type": "markdown",
   "metadata": {},
   "source": [
    "**Onboarding**\n",
    "\n",
    "* Print the party of candidate Rinne\n",
    "* Print all candidate names in separate lines\n",
    "* Print all candidate parties in separate lines\n",
    "* Test if 'Kekkonen' is a candidate\n",
    "* Add Kekkonen (party: KESK) to candidate list\n",
    "* Print the number of candidates in different parties. *Hint: use dictionary to collect the frequencies.*"
   ]
  },
  {
   "cell_type": "code",
   "execution_count": null,
   "metadata": {
    "collapsed": true
   },
   "outputs": [],
   "source": []
  }
 ],
 "metadata": {
  "kernelspec": {
   "display_name": "Python 2",
   "language": "python",
   "name": "python2"
  },
  "language_info": {
   "codemirror_mode": {
    "name": "ipython",
    "version": 2
   },
   "file_extension": ".py",
   "mimetype": "text/x-python",
   "name": "python",
   "nbconvert_exporter": "python",
   "pygments_lexer": "ipython2",
   "version": "2.7.10"
  }
 },
 "nbformat": 4,
 "nbformat_minor": 0
}
