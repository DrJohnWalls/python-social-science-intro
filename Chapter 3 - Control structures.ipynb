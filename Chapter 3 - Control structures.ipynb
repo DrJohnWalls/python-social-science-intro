{
 "cells": [
  {
   "cell_type": "markdown",
   "metadata": {},
   "source": [
    "### Loops and for\n",
    "\n",
    "There are different approaches to use loops. The most common one is to use loop to store values, like _sum of variables_, _count of variables_, _select part of variables_ (among others)."
   ]
  },
  {
   "cell_type": "code",
   "execution_count": 1,
   "metadata": {
    "collapsed": false
   },
   "outputs": [
    {
     "name": "stdout",
     "output_type": "stream",
     "text": [
      "63\n"
     ]
    }
   ],
   "source": [
    "total = 0 ## start counting the sum from zero\n",
    "for current_number in [1,2,4,8,16,32]:\n",
    "    total = total + current_number ## total is always the existing total + the current number\n",
    "print total"
   ]
  },
  {
   "cell_type": "markdown",
   "metadata": {},
   "source": [
    "**Onboarding**\n",
    "\n",
    "* What is the mean of numbers 1, 10, 4, 7, 8, 10, 3?\n",
    "* What is the sum of numbers 5, 3, 9, 6, 1, 7"
   ]
  },
  {
   "cell_type": "code",
   "execution_count": null,
   "metadata": {
    "collapsed": true
   },
   "outputs": [],
   "source": []
  },
  {
   "cell_type": "markdown",
   "metadata": {},
   "source": [
    "### Conditions and if\n",
    "\n",
    "Furthermore, it is possible to branch the code based on various **conditions**. Those are marked with `if (condition):`. Note that to check equality, you need to use `==` instead of `=` (which is used only for variable replacement."
   ]
  },
  {
   "cell_type": "code",
   "execution_count": 3,
   "metadata": {
    "collapsed": false
   },
   "outputs": [
    {
     "name": "stdout",
     "output_type": "stream",
     "text": [
      "2\n",
      "4\n",
      "6\n",
      "8\n",
      "10\n"
     ]
    }
   ],
   "source": [
    "for number in [1,2,3,4,5,6,7,8,9,10]:\n",
    "    if number % 2 == 0: ## can be divided with two?\n",
    "        print number"
   ]
  },
  {
   "cell_type": "code",
   "execution_count": 4,
   "metadata": {
    "collapsed": false
   },
   "outputs": [
    {
     "name": "stdout",
     "output_type": "stream",
     "text": [
      "Here is an example\n",
      "Here is an example HAS IS\n",
      "Here is another example\n",
      "Here is another example HAS IS\n",
      "But those aren't good examples\n"
     ]
    }
   ],
   "source": [
    "for sentence in [\"Here is an example\", \"Here is another example\", \"But those aren't good examples\"]:\n",
    "    print sentence\n",
    "    if 'is' in sentence:\n",
    "        print sentence, \"HAS IS\""
   ]
  },
  {
   "cell_type": "markdown",
   "metadata": {},
   "source": [
    "**Onboarding**\n",
    "\n",
    "* What is the sum of numbers that can be divided by 4 between numbers 4 to 15?\n",
    "* How many times world \"cat\" exists in this list `['cats are cool', 'dogs are cool also', 'and cats say meow']`"
   ]
  },
  {
   "cell_type": "code",
   "execution_count": null,
   "metadata": {
    "collapsed": true
   },
   "outputs": [],
   "source": []
  }
 ],
 "metadata": {
  "kernelspec": {
   "display_name": "Python 2",
   "language": "python",
   "name": "python2"
  },
  "language_info": {
   "codemirror_mode": {
    "name": "ipython",
    "version": 2
   },
   "file_extension": ".py",
   "mimetype": "text/x-python",
   "name": "python",
   "nbconvert_exporter": "python",
   "pygments_lexer": "ipython2",
   "version": "2.7.12"
  },
  "widgets": {
   "state": {},
   "version": "1.1.2"
  }
 },
 "nbformat": 4,
 "nbformat_minor": 0
}
