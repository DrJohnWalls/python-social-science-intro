{
 "cells": [
  {
   "cell_type": "markdown",
   "metadata": {},
   "source": [
    "Yle has a application programming interface (API) for collecting the news. Here is an example of how news collection works with it."
   ]
  },
  {
   "cell_type": "code",
   "execution_count": 4,
   "metadata": {
    "collapsed": true
   },
   "outputs": [],
   "source": [
    "import requests\n",
    "import json"
   ]
  },
  {
   "cell_type": "code",
   "execution_count": 6,
   "metadata": {
    "collapsed": false
   },
   "outputs": [
    {
     "name": "stdout",
     "output_type": "stream",
     "text": [
      "Downloading 0\n",
      "Downloading 1\n",
      "Downloading 2\n",
      "Downloading 3\n",
      "Downloading 4\n",
      "Downloading 5\n",
      "Downloading 6\n",
      "Downloading 7\n",
      "Downloading 8\n",
      "Downloading 9\n",
      "1010\n"
     ]
    }
   ],
   "source": [
    "data = []\n",
    "\n",
    "for i in range( 0, 10): ## load some news\n",
    "    \n",
    "    print \"Downloading\", i\n",
    "    \n",
    "    r = requests.get('http://yle.fi/uutiset/resources/ajax/latest?amount=100&offset=' + str( 100 * i ) )\n",
    "    \n",
    "    d = r.json()\n",
    "    \n",
    "    data += d['articles']\n",
    "    \n",
    "print len( data )\n",
    "\n",
    "json.dump( data , open('yle.json', 'w') ) ## store news in json format"
   ]
  },
  {
   "cell_type": "code",
   "execution_count": null,
   "metadata": {
    "collapsed": true
   },
   "outputs": [],
   "source": []
  }
 ],
 "metadata": {
  "kernelspec": {
   "display_name": "Python 2",
   "language": "python",
   "name": "python2"
  },
  "language_info": {
   "codemirror_mode": {
    "name": "ipython",
    "version": 2
   },
   "file_extension": ".py",
   "mimetype": "text/x-python",
   "name": "python",
   "nbconvert_exporter": "python",
   "pygments_lexer": "ipython2",
   "version": "2.7.10"
  }
 },
 "nbformat": 4,
 "nbformat_minor": 0
}
