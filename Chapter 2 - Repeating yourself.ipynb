{
 "cells": [
  {
   "cell_type": "markdown",
   "metadata": {},
   "source": [
    "There is often a need to repeate same ideas over and over againg. Thats why **loopping** structures exists for programming languages. In Python, the structure looks following: `for (variable name) in (thing that can be iterated):`, or as seen below:"
   ]
  },
  {
   "cell_type": "code",
   "execution_count": 2,
   "metadata": {
    "collapsed": false
   },
   "outputs": [
    {
     "name": "stdout",
     "output_type": "stream",
     "text": [
      "1\n",
      "2\n",
      "4\n",
      "8\n",
      "16\n",
      "32\n"
     ]
    }
   ],
   "source": [
    "for current_number in [1,2,4,8,16,32]:\n",
    "    print current_number"
   ]
  },
  {
   "cell_type": "markdown",
   "metadata": {},
   "source": [
    "You can also use command `range(1,11)` to get numbers 1, 2, ..., 10"
   ]
  },
  {
   "cell_type": "code",
   "execution_count": 4,
   "metadata": {
    "collapsed": false
   },
   "outputs": [
    {
     "name": "stdout",
     "output_type": "stream",
     "text": [
      "Hello 1 time\n",
      "Hello 2 time\n",
      "Hello 3 time\n",
      "Hello 4 time\n",
      "Hello 5 time\n",
      "Hello 6 time\n",
      "Hello 7 time\n",
      "Hello 8 time\n",
      "Hello 9 time\n",
      "Hello 10 time\n"
     ]
    }
   ],
   "source": [
    "for current_number in range(1,11):\n",
    "    print \"Hello\", current_number, \"time\""
   ]
  },
  {
   "cell_type": "markdown",
   "metadata": {},
   "source": [
    "You can also loop over lists which have other things than numbers (like words) or a word (as it _actually_ is just a list of characters.)"
   ]
  },
  {
   "cell_type": "markdown",
   "metadata": {},
   "source": [
    "**Onboarding**\n",
    "\n",
    "* Print the numbers between 1 and 5\n",
    "* For numbers 7, 9, 3, 6, 8 print the double of that number.\n",
    "* Print words cats, dogs, kittens to separate lines and use only one print sentence."
   ]
  },
  {
   "cell_type": "markdown",
   "metadata": {},
   "source": []
  }
 ],
 "metadata": {
  "kernelspec": {
   "display_name": "Python 2",
   "language": "python",
   "name": "python2"
  },
  "language_info": {
   "codemirror_mode": {
    "name": "ipython",
    "version": 2
   },
   "file_extension": ".py",
   "mimetype": "text/x-python",
   "name": "python",
   "nbconvert_exporter": "python",
   "pygments_lexer": "ipython2",
   "version": "2.7.12"
  },
  "widgets": {
   "state": {},
   "version": "1.1.2"
  }
 },
 "nbformat": 4,
 "nbformat_minor": 0
}
